{
 "cells": [
  {
   "cell_type": "markdown",
   "metadata": {},
   "source": [
    "Question 1\n",
    "Print the first ArmStrong number in the range of 1042000 to 702648265 and exit the loop as soon as you encounter the first armstrong number."
   ]
  },
  {
   "cell_type": "code",
   "execution_count": null,
   "metadata": {},
   "outputs": [
    {
     "name": "stdout",
     "output_type": "stream",
     "text": [
      "The First Armstrong number is- 1741725\n",
      "The First Armstrong number is- 2097280\n",
      "The First Armstrong number is- 2097281\n",
      "The First Armstrong number is- 3278756\n",
      "The First Armstrong number is- 4210818\n",
      "The First Armstrong number is- 4782969\n",
      "The First Armstrong number is- 4861095\n",
      "The First Armstrong number is- 9800817\n",
      "The First Armstrong number is- 9926315\n"
     ]
    }
   ],
   "source": [
    "lower=1042000\n",
    "upper=702648265\n",
    "for num in range(lower,upper+1):\n",
    "    order=len(str(num))\n",
    "    sum=0\n",
    "    temp=num\n",
    "    while temp>0:\n",
    "        digit=temp%10\n",
    "        sum+=digit**order\n",
    "        temp//=10\n",
    "        if num==sum:\n",
    "            print(\"The First Armstrong number is-\",num)\n",
    "            break"
   ]
  },
  {
   "cell_type": "code",
   "execution_count": null,
   "metadata": {},
   "outputs": [],
   "source": []
  },
  {
   "cell_type": "code",
   "execution_count": null,
   "metadata": {},
   "outputs": [],
   "source": []
  }
 ],
 "metadata": {
  "kernelspec": {
   "display_name": "Python 3",
   "language": "python",
   "name": "python3"
  },
  "language_info": {
   "codemirror_mode": {
    "name": "ipython",
    "version": 3
   },
   "file_extension": ".py",
   "mimetype": "text/x-python",
   "name": "python",
   "nbconvert_exporter": "python",
   "pygments_lexer": "ipython3",
   "version": "3.8.3"
  }
 },
 "nbformat": 4,
 "nbformat_minor": 4
}
