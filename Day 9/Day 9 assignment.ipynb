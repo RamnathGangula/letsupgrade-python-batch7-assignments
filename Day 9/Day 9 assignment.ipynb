{
 "cells": [
  {
   "cell_type": "markdown",
   "metadata": {},
   "source": [
    "Question 1.\n",
    "Write a python Function for finding is a given number prime or not and do Unit Testing on it usingPyLint and Unittest Library."
   ]
  },
  {
   "cell_type": "code",
   "execution_count": 8,
   "metadata": {},
   "outputs": [
    {
     "name": "stdout",
     "output_type": "stream",
     "text": [
      "Overwriting prime_number\n"
     ]
    }
   ],
   "source": [
    "%%writefile prime_number\n",
    "'''\n",
    "It is a Function to check prime number\n",
    "'''\n",
    "\n",
    "def prime(number_n):\n",
    "    '''\n",
    "    this is a prime function\n",
    "    '''\n",
    "    if number_n == 1:\n",
    "        return False\n",
    "    for i in range(2, number_n):\n",
    "        if number_n%i == 0:\n",
    "            return False\n",
    "        return True"
   ]
  },
  {
   "cell_type": "code",
   "execution_count": 9,
   "metadata": {},
   "outputs": [
    {
     "name": "stdout",
     "output_type": "stream",
     "text": [
      "\n",
      "-------------------------------------------------------------------\n",
      "\n",
      "Your code has been rated at 10.00/10 (previous run: 8.57/10, +1.43)\n",
      "\n",
      "\n",
      "\n"
     ]
    }
   ],
   "source": [
    "! pylint \"prime_number\" "
   ]
  },
  {
   "cell_type": "markdown",
   "metadata": {},
   "source": [
    "Question 2.\n",
    "Make a small generator program for returning armstrong numbers in between 1-1000 in agenerator object."
   ]
  },
  {
   "cell_type": "code",
   "execution_count": 16,
   "metadata": {},
   "outputs": [
    {
     "name": "stdout",
     "output_type": "stream",
     "text": [
      "enter 'x' for exit.\n",
      "enter the interval(starting and ending number):\n",
      "1\n",
      "1000\n",
      "1\n",
      "153\n",
      "370\n",
      "371\n",
      "407\n"
     ]
    }
   ],
   "source": [
    "print(\"enter 'x' for exit.\")\n",
    "print(\"enter the interval(starting and ending number):\");\n",
    "start = input();\n",
    "if start == 'x':\n",
    "    exit();\n",
    "else:\n",
    "    end = input();\n",
    "    lower = int(start);\n",
    "    upper = int(end);\n",
    "    for num in range(lower, upper+1):\n",
    "        tot = 0;\n",
    "        temp = num;\n",
    "        while temp != 0:\n",
    "            dig = temp%10;\n",
    "            tot += dig**3;\n",
    "            temp //= 10;\n",
    "        if num == tot:\n",
    "            print(num);\n",
    "                \n",
    "    \n",
    "    "
   ]
  },
  {
   "cell_type": "code",
   "execution_count": null,
   "metadata": {},
   "outputs": [],
   "source": []
  }
 ],
 "metadata": {
  "kernelspec": {
   "display_name": "Python 3",
   "language": "python",
   "name": "python3"
  },
  "language_info": {
   "codemirror_mode": {
    "name": "ipython",
    "version": 3
   },
   "file_extension": ".py",
   "mimetype": "text/x-python",
   "name": "python",
   "nbconvert_exporter": "python",
   "pygments_lexer": "ipython3",
   "version": "3.8.3"
  }
 },
 "nbformat": 4,
 "nbformat_minor": 4
}
